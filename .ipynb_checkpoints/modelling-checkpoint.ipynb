{
 "cells": [
  {
   "cell_type": "markdown",
   "id": "a5695cfd-08f5-4e5d-abd5-92100e71c7f7",
   "metadata": {},
   "source": [
    "### Now I want to build a model and see how the apartment price would go"
   ]
  },
  {
   "cell_type": "code",
   "execution_count": 1,
   "id": "42b579bd-5fe5-4705-9666-d34954b267d5",
   "metadata": {},
   "outputs": [],
   "source": [
    "import pandas as pd\n",
    "import numpy as np\n",
    "from sklearn.model_selection import train_test_split\n",
    "from sklearn.tree import DecisionTreeRegressor\n",
    "from sklearn.ensemble import RandomForestRegressor\n",
    "from sklearn.metrics import mean_squared_error\n",
    "from sklearn.linear_model import LinearRegression, Ridge, Lasso\n",
    "from sklearn.preprocessing import StandardScaler\n",
    "from sklearn.metrics import r2_score\n",
    "import matplotlib.pyplot as plt\n",
    "from sklearn.ensemble import RandomForestRegressor"
   ]
  },
  {
   "cell_type": "code",
   "execution_count": 2,
   "id": "455b1e12-6b0e-44b8-9e34-d44bb1f145b8",
   "metadata": {},
   "outputs": [],
   "source": [
    "df = pd.read_csv('data/data.csv')\n",
    "df_dummy = pd.get_dummies(df)"
   ]
  },
  {
   "cell_type": "markdown",
   "id": "cfd02a74-3009-42c2-a4e2-22083bdb8cb8",
   "metadata": {},
   "source": [
    "#### I used a linear regression model to test on the dummy dataframa and got below results:\n",
    "##### RMSE: 1163122.1221026003\n",
    "##### Median salary for data analysts in Stockholm: 34175\n",
    "##### Monthly savings: 10790.675\n",
    "##### Predicted down payment based on 15% of apartment price: 3564620.5846851994\n",
    "##### Months to save up for down payment: 330.3426879861732\n",
    "##### Years to save up for down payment: 27.528557332181098\n",
    "##### Years to save up for down payment with salary growth: 18"
   ]
  },
  {
   "cell_type": "markdown",
   "id": "19a20ab0-b0f4-44ee-bb69-0be22e198c51",
   "metadata": {},
   "source": [
    "##### Based on the given results, the RMSE value of 1163122.12 is quite high, which suggests that (1) the data I have may have ourliers or (2) the model may not be accurately predicting the apartment prices. \n"
   ]
  },
  {
   "cell_type": "markdown",
   "id": "d8028450-258c-4601-8bf8-ae42610f5cd9",
   "metadata": {},
   "source": [
    "##### Let's take a look at the outliers"
   ]
  },
  {
   "cell_type": "code",
   "execution_count": 3,
   "id": "5e76a04f-54a7-4813-9efb-bd88d80e2cf0",
   "metadata": {},
   "outputs": [
    {
     "name": "stdout",
     "output_type": "stream",
     "text": [
      "25900000\n",
      "2070000\n",
      "4850000.0\n"
     ]
    }
   ],
   "source": [
    "print(df_dummy.price.max())\n",
    "print(df_dummy.price.min())\n",
    "print(df_dummy.price.median())"
   ]
  },
  {
   "cell_type": "code",
   "execution_count": 4,
   "id": "c4764fba-4701-4e65-be26-c29b22c315d5",
   "metadata": {},
   "outputs": [
    {
     "name": "stdout",
     "output_type": "stream",
     "text": [
      "249.0\n",
      "24.0\n",
      "48.0\n"
     ]
    }
   ],
   "source": [
    "print(df_dummy.size_in_sqm.max())\n",
    "print(df_dummy.size_in_sqm.min())\n",
    "print(df_dummy.size_in_sqm.median())"
   ]
  },
  {
   "cell_type": "markdown",
   "id": "9d07b479-dbcd-4d07-993a-03a205d69050",
   "metadata": {},
   "source": [
    "##### After the quick check we can see there are outliers in the data, as the median price and median size of the apartments in the collected data is 4 850 000 SEK and 48 sqr meters, the highest price was 25 900 000 SEK for 249 sqr meters which is exteremly high.\n",
    "\n",
    "##### Now I want to define outliers in my data, so the prediction can be more reasonable.\n",
    "##### By doing it I need to use the interquartile range method - IQR.\n",
    "\n",
    "##### I have considered IQR and z-score to identify and handle the outliers, but given the previous visualisation, the prices in each area is skewed but not very much skewed, IQR method is best suited as it's less sensitive to outliers compared to the z-score model."
   ]
  },
  {
   "cell_type": "code",
   "execution_count": 5,
   "id": "4de435ec-a2dd-4217-b1a6-7a50c45d8da6",
   "metadata": {},
   "outputs": [
    {
     "name": "stdout",
     "output_type": "stream",
     "text": [
      "Number of outliers: 26\n"
     ]
    }
   ],
   "source": [
    "# calculate the 25th and 75th percentiles\n",
    "q1 = np.percentile(df_dummy['price'], 25)\n",
    "q3 = np.percentile(df_dummy['price'], 75)\n",
    "\n",
    "iqr = q3 - q1\n",
    "\n",
    "# get the lower and upper bounds: calculate the lower and upper bounds by subtracting 1.5 times the IQR from Q1 and adding 1.5 times the IQR to Q3, respectively.\n",
    "lower_bound = q1 - 1.5 * iqr\n",
    "upper_bound = q3 + 1.5 * iqr\n",
    "\n",
    "outliers = df_dummy[(df_dummy['price'] < lower_bound) | (df_dummy['price'] > upper_bound)]\n",
    "\n",
    "print('Number of outliers:', len(outliers))"
   ]
  },
  {
   "cell_type": "markdown",
   "id": "6f184c0c-5425-45e1-be1f-fa0781cc7da5",
   "metadata": {},
   "source": [
    "##### Now we found that there are 26 outliers, giving the small amount of them, I took a manual check and found the prices are all over 9 million SEK which are not initially considered that a junior data analyst would save up for, but they were collected due to that they match our other criterias: 2 rooms apartment in the 4 popular areas. Then let's locate them, and get a test database without them and then do the prediction again"
   ]
  },
  {
   "cell_type": "code",
   "execution_count": 6,
   "id": "f6ec749a-ad45-4a30-8803-40053dbd2580",
   "metadata": {},
   "outputs": [],
   "source": [
    "df_no_outlier = df.drop(df[(df['price'] < lower_bound) | (df['price'] > upper_bound)].index)\n",
    "df_no_outlier.to_csv(\"no_outlier_price.csv\", index=False)"
   ]
  },
  {
   "cell_type": "code",
   "execution_count": 7,
   "id": "531ca1e0-7b6b-493d-a643-4f744bea45e4",
   "metadata": {},
   "outputs": [],
   "source": [
    "df_cleaned = pd.read_csv(\"no_outlier_price.csv\")"
   ]
  },
  {
   "cell_type": "markdown",
   "id": "08b3ba21-001a-4bb9-9c7e-2f391c1e5095",
   "metadata": {},
   "source": [
    "##### Now I try to use the linear regression model again but on the cleaned data."
   ]
  },
  {
   "cell_type": "code",
   "execution_count": 8,
   "id": "a534446c-3e0d-4ec6-8507-6f3b05d3cb6e",
   "metadata": {},
   "outputs": [
    {
     "name": "stdout",
     "output_type": "stream",
     "text": [
      "RMSE: 1044296.3628306319\n",
      "Median salary for data analysts in Stockholm: 34175\n",
      "Monthly savings: 10790.675\n",
      "Predicted down payment based on 15% of apartment price: 1350677.7044825382\n",
      "Months to save up for down payment: 125.17082615151863\n",
      "Years to save up for down payment: 10.430902179293218\n",
      "Years to save up for down payment with salary growth: 9\n"
     ]
    }
   ],
   "source": [
    "median_salary = 34175 # media salary for junior data analyst in Stockholm\n",
    "\n",
    "# Calculate the monthly savings\n",
    "monthly_savings = median_salary * 0.781 - 15900 #0.781 is the tax rate, 15900 SEK is consdiered as living cost per month in Stockholm\n",
    "\n",
    "# Set the yearly salary growth rate\n",
    "salary_growth_rate = 0.05\n",
    "\n",
    "# Calculate the predicted down payment based on 15% of the apartment price\n",
    "def calculate_down_payment(price):\n",
    "    return price * 0.15\n",
    "\n",
    "# Define the features and target variable\n",
    "X = df_cleaned[['size_in_sqm', 'monthly_fee']]\n",
    "y = df_cleaned['price']\n",
    "\n",
    "# Split the data into training and testing sets\n",
    "X_train, X_test, y_train, y_test = train_test_split(X, y, test_size=0.2, random_state=42)\n",
    "\n",
    "# Train a linear regression model on the training set\n",
    "lr = LinearRegression()\n",
    "lr.fit(X_train, y_train)\n",
    "\n",
    "# Use the model to make predictions on the testing set\n",
    "y_pred = lr.predict(X_test)\n",
    "\n",
    "# Calculate the root mean squared error (RMSE) of the model on the testing set\n",
    "mse = ((y_test - y_pred) ** 2).mean()\n",
    "rmse = mse ** 0.5\n",
    "\n",
    "# Print the RMSE\n",
    "print('RMSE:', rmse)\n",
    "\n",
    "# Predict the prices of apartments in each area based on the square meters and fees\n",
    "prices = lr.predict(df_cleaned[['size_in_sqm', 'monthly_fee']])\n",
    "\n",
    "# Add the predicted prices to the DataFrame\n",
    "df_cleaned = df_cleaned.assign(predicted_price=prices)\n",
    "\n",
    "# Calculate the predicted down payment for each apartment\n",
    "df_cleaned = df_cleaned.assign(predicted_down_payment=df_cleaned['predicted_price'].apply(calculate_down_payment))\n",
    "\n",
    "# Calculate how many months it will take to save up for the down payment\n",
    "df_cleaned = df_cleaned.assign(months_to_save=df_cleaned['predicted_down_payment'] / monthly_savings)\n",
    "\n",
    "# Calculate the years it will take to save up for the down payment\n",
    "df_cleaned = df_cleaned.assign(years_to_save=df_cleaned['months_to_save'] / 12)\n",
    "\n",
    "# Calculate the years it will take to save up for the down payment with salary growth\n",
    "current_savings = 0\n",
    "years_to_save_with_growth = 0\n",
    "while current_savings < df_cleaned['predicted_down_payment'].max():\n",
    "    current_savings += monthly_savings * 12\n",
    "    current_savings *= (1 + salary_growth_rate)\n",
    "    years_to_save_with_growth += 1\n",
    "\n",
    "# Print the results\n",
    "print('Median salary for data analysts in Stockholm:', median_salary)\n",
    "print('Monthly savings:', monthly_savings)\n",
    "print('Predicted down payment based on 15% of apartment price:', df_cleaned['predicted_down_payment'].max())\n",
    "print('Months to save up for down payment:', df_cleaned['months_to_save'].max())\n",
    "print('Years to save up for down payment:', df_cleaned['years_to_save'].max())\n",
    "print('Years to save up for down payment with salary growth:', years_to_save_with_growth)"
   ]
  },
  {
   "cell_type": "markdown",
   "id": "a457cf58-412b-4857-9bb1-550653f799bd",
   "metadata": {},
   "source": [
    "##### Compare to previous result from the linear regression model I used on the data with outliers, the outcome here with clearned data differs a lot.\n",
    "\n",
    "##### Therefore, we have cleaned up the first issue with the high RMSE - there are outliers in my data, the second potential issue is that the model may not be accurately predicting the apartment prices.\n",
    "\n",
    "##### Now I try to train and evaluate different models to see which suits my data the best.\n",
    "\n",
    "##### There are 3 models chosen, they are commonly used for regression problems and they have shown to perform well in many cases."
   ]
  },
  {
   "cell_type": "code",
   "execution_count": null,
   "id": "52ed557b-58c3-4f4d-acc3-c2c3e55aa5c3",
   "metadata": {},
   "outputs": [],
   "source": [
    "# split the data into training and testing sets\n",
    "X_train, X_test, y_train, y_test = train_test_split(df_cleaned.drop('price', axis=1), df_cleaned['price'], test_size=0.3, random_state=42)\n",
    "\n",
    "# train and evaluate different models\n",
    "models = [\n",
    "    ('Linear Regression', LinearRegression()),\n",
    "    ('Decision Tree', DecisionTreeRegressor()),\n",
    "    ('Random Forest', RandomForestRegressor())\n",
    "]\n",
    "\n",
    "for name, model in models:\n",
    "    # Train the model\n",
    "    model.fit(X_train, y_train)\n",
    "    \n",
    "    # Make predictions on the test set\n",
    "    y_pred = model.predict(X_test)\n",
    "    \n",
    "    # Evaluate the model\n",
    "    rmse = mean_squared_error(y_test, y_pred, squared=False)\n",
    "    r2 = r2_score(y_test, y_pred)\n",
    "    print(f\"{name} RMSE: {rmse:.2f}, R-squared: {r2:.2f}\")\n"
   ]
  },
  {
   "cell_type": "markdown",
   "id": "1c916dca-07ec-487e-95fe-1dfff3c59e4f",
   "metadata": {},
   "source": [
    "##### It seems Random Forest model has the lowest RMSE with highest r-squared, given that a higher R-squared indicates a better fit between the regression line and the data, while a lower RMSE indicates better predictive accuracy, let's try to fit the data in the Random Forest model and see."
   ]
  },
  {
   "cell_type": "code",
   "execution_count": 10,
   "id": "0c38f34d-99b0-4a6f-9ade-e2a54b751334",
   "metadata": {},
   "outputs": [
    {
     "name": "stdout",
     "output_type": "stream",
     "text": [
      "Number of outliers: 26\n"
     ]
    }
   ],
   "source": [
    "q1 = np.percentile(df['price'], 25)\n",
    "q3 = np.percentile(df['price'], 75)\n",
    "\n",
    "iqr = q3 - q1\n",
    "\n",
    "# get the lower and upper bounds: calculate the lower and upper bounds by subtracting 1.5 times the IQR from Q1 and adding 1.5 times the IQR to Q3, respectively.\n",
    "lower_bound = q1 - 1.5 * iqr\n",
    "upper_bound = q3 + 1.5 * iqr\n",
    "\n",
    "outliers = df[(df['price'] < lower_bound) | (df['price'] > upper_bound)]\n",
    "\n",
    "print('Number of outliers:', len(outliers))"
   ]
  },
  {
   "cell_type": "code",
   "execution_count": 11,
   "id": "f503b436-c7bd-46fa-b2f7-f6ca22412749",
   "metadata": {},
   "outputs": [
    {
     "name": "stdout",
     "output_type": "stream",
     "text": [
      "Area: Södermalm\n",
      "Average predicted price: 4956536.397652598\n",
      "Average down payment: 743480.4596478897\n",
      "Average time to save up for the down payment: 5.408163265306122 years\n",
      "\n",
      "Area: Årsta\n",
      "Average predicted price: 3447215.2604826204\n",
      "Average down payment: 517082.289072393\n",
      "Average time to save up for the down payment: 4.105442176870748 years\n",
      "\n",
      "Area: Östermalm\n",
      "Average predicted price: 6055774.183059587\n",
      "Average down payment: 908366.1274589382\n",
      "Average time to save up for the down payment: 6.367647058823529 years\n",
      "\n",
      "Area: Vasastan\n",
      "Average predicted price: 5479117.068113127\n",
      "Average down payment: 821867.5602169691\n",
      "Average time to save up for the down payment: 5.901464713715047 years\n",
      "\n",
      "Area: Fredhäll\n",
      "Average predicted price: 4005338.0809705807\n",
      "Average down payment: 600800.7121455871\n",
      "Average time to save up for the down payment: 4.5675675675675675 years\n",
      "\n"
     ]
    }
   ],
   "source": [
    "areas = ['Södermalm', 'Årsta', 'Östermalm', 'Vasastan', 'Fredhäll']\n",
    "df_areas = df_cleaned[df_cleaned['area'].isin(areas)]\n",
    "\n",
    "def calculate_down_payment(price):\n",
    "    return 0.15 * price\n",
    "\n",
    "def calculate_time_to_save(down_payment, annual_salary=410100, annual_savings=None, growth_rate=0.05):\n",
    "    if annual_savings is None:\n",
    "        annual_savings = annual_salary * 0.781 - 15900 * 12\n",
    "    current_savings = 0\n",
    "    years_to_save_with_growth = 0\n",
    "    while current_savings < down_payment:\n",
    "        current_savings += annual_savings\n",
    "        current_savings *= (1 + growth_rate)\n",
    "        years_to_save_with_growth += 1\n",
    "    return years_to_save_with_growth\n",
    "\n",
    "X = df_areas[['size_in_sqm', 'monthly_fee']]\n",
    "y = df_areas['price']\n",
    "\n",
    "# train the Random Forest model\n",
    "rf = RandomForestRegressor()\n",
    "rf.fit(X, y)\n",
    "\n",
    "# Predict the prices of apartments in each area based on the square meters and monthly fees\n",
    "df_areas['predicted_price'] = rf.predict(X)\n",
    "\n",
    "# Calculate the down payment for each apartment\n",
    "df_areas['down_payment'] = df_areas['predicted_price'].apply(calculate_down_payment)\n",
    "\n",
    "# Calculate the time required to save up for the down payment for each apartment\n",
    "df_areas['time_to_save'] = df_areas['down_payment'].apply(calculate_time_to_save)\n",
    "\n",
    "for area in areas:\n",
    "    df_area = df_areas[df_areas['area'] == area]\n",
    "    avg_price = df_area['predicted_price'].mean()\n",
    "    avg_down_payment = df_area['down_payment'].mean()\n",
    "    avg_time_to_save = df_area['time_to_save'].mean()\n",
    "    print(f\"Area: {area}\")\n",
    "    print(f\"Average predicted price: {avg_price}\")\n",
    "    print(f\"Average down payment: {avg_down_payment}\")\n",
    "    print(f\"Average time to save up for the down payment: {avg_time_to_save} years\\n\")"
   ]
  },
  {
   "cell_type": "code",
   "execution_count": null,
   "id": "d2157907-38fe-435b-90fe-873d4cc54fd8",
   "metadata": {},
   "outputs": [],
   "source": []
  },
  {
   "cell_type": "markdown",
   "id": "eb29277e-10f4-47bb-8bc8-3a1b8f3cbc2d",
   "metadata": {},
   "source": [
    "##### "
   ]
  },
  {
   "cell_type": "code",
   "execution_count": null,
   "id": "d75bb528-82ed-40a1-ad66-48611a9b820d",
   "metadata": {},
   "outputs": [],
   "source": []
  }
 ],
 "metadata": {
  "kernelspec": {
   "display_name": "Python 3 (ipykernel)",
   "language": "python",
   "name": "python3"
  },
  "language_info": {
   "codemirror_mode": {
    "name": "ipython",
    "version": 3
   },
   "file_extension": ".py",
   "mimetype": "text/x-python",
   "name": "python",
   "nbconvert_exporter": "python",
   "pygments_lexer": "ipython3",
   "version": "3.10.1"
  }
 },
 "nbformat": 4,
 "nbformat_minor": 5
}
