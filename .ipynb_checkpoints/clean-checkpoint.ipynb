{
 "cells": [
  {
   "cell_type": "code",
   "execution_count": 369,
   "id": "27b2ca06-a66b-4fe4-8161-06ff7364ae9f",
   "metadata": {
    "tags": []
   },
   "outputs": [],
   "source": [
    "import pandas as pd"
   ]
  },
  {
   "cell_type": "code",
   "execution_count": 370,
   "id": "324012d0-bc49-4aee-ae88-8e26944234b8",
   "metadata": {
    "tags": []
   },
   "outputs": [],
   "source": [
    "df = pd.read_csv('data/apartment_data_raw.csv') # Main raw dataset\n",
    "test_df = pd.read_csv('data/apartment_data_raw.csv') # For showcasing changes done when using inplace=True"
   ]
  },
  {
   "cell_type": "markdown",
   "id": "605d872e-b248-4b81-8418-0c878d149d8e",
   "metadata": {},
   "source": [
    "# Cleaning The Raw Data"
   ]
  },
  {
   "cell_type": "markdown",
   "id": "d9d48c8f-5e50-4bc9-9fbf-7335355acd7e",
   "metadata": {},
   "source": [
    "Below, the data that has been fetched from _hemnet.se_ will be cleaned up, this will include (no specific meaning of the order):\n",
    "\n",
    "__1. Removing unnecessary columns and Updating column names__\n",
    "\n",
    "__2. Rearranging column order__\n",
    "\n",
    "__3. Converting datatypes__\n",
    "\n",
    "__4. Removing redundant text__\n",
    "\n",
    "__5. Editing damaged rows, eg: NaN's, misspelled strings, bad numbers__\n",
    "\n",
    "It will mainly be done using pandas, each step will be documented and also kept in functions as much as possible for future usage.\n",
    "\n",
    "All the steps in this cleaning process are crucial for further analyzing the data, storing for example the Fee column as a string won't do us much good."
   ]
  },
  {
   "cell_type": "code",
   "execution_count": 371,
   "id": "92e1847b-b5bf-4075-870f-0ce5ff589127",
   "metadata": {
    "tags": []
   },
   "outputs": [
    {
     "data": {
      "text/html": [
       "<div>\n",
       "<style scoped>\n",
       "    .dataframe tbody tr th:only-of-type {\n",
       "        vertical-align: middle;\n",
       "    }\n",
       "\n",
       "    .dataframe tbody tr th {\n",
       "        vertical-align: top;\n",
       "    }\n",
       "\n",
       "    .dataframe thead th {\n",
       "        text-align: right;\n",
       "    }\n",
       "</style>\n",
       "<table border=\"1\" class=\"dataframe\">\n",
       "  <thead>\n",
       "    <tr style=\"text-align: right;\">\n",
       "      <th></th>\n",
       "      <th>Adress</th>\n",
       "      <th>Area</th>\n",
       "      <th>Date</th>\n",
       "      <th>Fee</th>\n",
       "      <th>Price</th>\n",
       "      <th>Price Per SQM</th>\n",
       "      <th>Size</th>\n",
       "      <th>index</th>\n",
       "      <th>timestamp</th>\n",
       "      <th>timestampString</th>\n",
       "      <th>uid</th>\n",
       "      <th>url</th>\n",
       "      <th>url_uid</th>\n",
       "    </tr>\n",
       "  </thead>\n",
       "  <tbody>\n",
       "    <tr>\n",
       "      <th>0</th>\n",
       "      <td>Götgatan 128, 3tr</td>\n",
       "      <td>LägenhetLägenhet                    Södermalm,...</td>\n",
       "      <td>Såld 3 februari 2023</td>\n",
       "      <td>2 798 kr/mån</td>\n",
       "      <td>Slutpris 4 850 000 kr</td>\n",
       "      <td>74 615 kr/m²</td>\n",
       "      <td>65 m²                                   2 rum</td>\n",
       "      <td>1</td>\n",
       "      <td>1675427967343</td>\n",
       "      <td>Fri, 03 Feb 2023 12:39:27 GMT</td>\n",
       "      <td>bbcR8OjQt5f0EriklLFM</td>\n",
       "      <td>https://www.hemnet.se/salda/bostader?location_...</td>\n",
       "      <td>1</td>\n",
       "    </tr>\n",
       "  </tbody>\n",
       "</table>\n",
       "</div>"
      ],
      "text/plain": [
       "              Adress                                               Area  \\\n",
       "0  Götgatan 128, 3tr  LägenhetLägenhet                    Södermalm,...   \n",
       "\n",
       "                   Date           Fee                  Price Price Per SQM  \\\n",
       "0  Såld 3 februari 2023  2 798 kr/mån  Slutpris 4 850 000 kr  74 615 kr/m²   \n",
       "\n",
       "                                            Size  index      timestamp  \\\n",
       "0  65 m²                                   2 rum      1  1675427967343   \n",
       "\n",
       "                 timestampString                   uid  \\\n",
       "0  Fri, 03 Feb 2023 12:39:27 GMT  bbcR8OjQt5f0EriklLFM   \n",
       "\n",
       "                                                 url  url_uid  \n",
       "0  https://www.hemnet.se/salda/bostader?location_...        1  "
      ]
     },
     "execution_count": 371,
     "metadata": {},
     "output_type": "execute_result"
    }
   ],
   "source": [
    "test_df.head(1) # Using head(1) here to get an overview what columns we want to drop, we use test_df since it will also be used as a comparison in the end of the cleaning process."
   ]
  },
  {
   "cell_type": "markdown",
   "id": "8d0db22f-8eff-4652-8a4b-e5cf4a2ae8b1",
   "metadata": {},
   "source": [
    "## 1. Removing unnecessary columns and Updating column names"
   ]
  },
  {
   "cell_type": "markdown",
   "id": "b01a8423-6694-449f-bf23-00a535169394",
   "metadata": {},
   "source": [
    "This dataset has been fetched to analyze two room apartments in popular areas around and in Stockholm City.\n",
    "\n",
    "Looking at the columns, we see that:\n",
    "* index\n",
    "* timestamp\n",
    "* timestampString\n",
    "* uid\n",
    "* url\n",
    "* url_uid\n",
    "\n",
    "are all redundant columns for this project and is data that followed during the scraping process."
   ]
  },
  {
   "cell_type": "code",
   "execution_count": 372,
   "id": "4b97f419-c9c0-4c1c-b7c6-3b63d1ae6ef2",
   "metadata": {
    "tags": []
   },
   "outputs": [],
   "source": [
    "df.drop(\n",
    "    ['index', 'timestamp', 'timestampString', 'uid', 'url', 'url_uid'],\n",
    "    axis=1,\n",
    "    inplace=True\n",
    ")\n",
    "# Dropping columns by passing in a list of the column names\n",
    "# axis=1 stands for columns\n",
    "# inplace=True to update the dataframe in place instead of returning a copy of the object."
   ]
  },
  {
   "cell_type": "markdown",
   "id": "81a48f5f-c1de-4f41-808f-656e393aeb88",
   "metadata": {},
   "source": [
    "Now, let's change the name of the column to more 'code friendly' names"
   ]
  },
  {
   "cell_type": "code",
   "execution_count": 373,
   "id": "db7b228d-1a6a-449e-b6c5-f344fff650e1",
   "metadata": {
    "tags": []
   },
   "outputs": [],
   "source": [
    "df.columns = ['adress', 'area', 'date_sold', 'monthly_fee', 'price', 'price_per_sqm', 'size_in_sqm']"
   ]
  },
  {
   "cell_type": "code",
   "execution_count": 374,
   "id": "8201e33a-1904-4a0c-8c30-a1f64d37e2fe",
   "metadata": {
    "tags": []
   },
   "outputs": [
    {
     "data": {
      "text/html": [
       "<div>\n",
       "<style scoped>\n",
       "    .dataframe tbody tr th:only-of-type {\n",
       "        vertical-align: middle;\n",
       "    }\n",
       "\n",
       "    .dataframe tbody tr th {\n",
       "        vertical-align: top;\n",
       "    }\n",
       "\n",
       "    .dataframe thead th {\n",
       "        text-align: right;\n",
       "    }\n",
       "</style>\n",
       "<table border=\"1\" class=\"dataframe\">\n",
       "  <thead>\n",
       "    <tr style=\"text-align: right;\">\n",
       "      <th></th>\n",
       "      <th>adress</th>\n",
       "      <th>area</th>\n",
       "      <th>date_sold</th>\n",
       "      <th>monthly_fee</th>\n",
       "      <th>price</th>\n",
       "      <th>price_per_sqm</th>\n",
       "      <th>size_in_sqm</th>\n",
       "    </tr>\n",
       "  </thead>\n",
       "  <tbody>\n",
       "    <tr>\n",
       "      <th>0</th>\n",
       "      <td>Götgatan 128, 3tr</td>\n",
       "      <td>LägenhetLägenhet                    Södermalm,...</td>\n",
       "      <td>Såld 3 februari 2023</td>\n",
       "      <td>2 798 kr/mån</td>\n",
       "      <td>Slutpris 4 850 000 kr</td>\n",
       "      <td>74 615 kr/m²</td>\n",
       "      <td>65 m²                                   2 rum</td>\n",
       "    </tr>\n",
       "  </tbody>\n",
       "</table>\n",
       "</div>"
      ],
      "text/plain": [
       "              adress                                               area  \\\n",
       "0  Götgatan 128, 3tr  LägenhetLägenhet                    Södermalm,...   \n",
       "\n",
       "              date_sold   monthly_fee                  price price_per_sqm  \\\n",
       "0  Såld 3 februari 2023  2 798 kr/mån  Slutpris 4 850 000 kr  74 615 kr/m²   \n",
       "\n",
       "                                     size_in_sqm  \n",
       "0  65 m²                                   2 rum  "
      ]
     },
     "execution_count": 374,
     "metadata": {},
     "output_type": "execute_result"
    }
   ],
   "source": [
    "df.head(1)"
   ]
  },
  {
   "cell_type": "markdown",
   "id": "9b3f944f-176a-4909-b6e6-994e45e1937c",
   "metadata": {},
   "source": [
    "This looks better, the columns needed for the analysis is much clearer now. \n",
    "\n",
    "We still have to clean the row data, but now we also have the knowledge as to how we want to lay that out."
   ]
  },
  {
   "cell_type": "markdown",
   "id": "320a57e7-6051-41e8-ba32-56c462432513",
   "metadata": {
    "tags": []
   },
   "source": [
    " \n",
    " \n",
    "______________________________________________________________________________________________________________________________\n",
    " \n",
    " "
   ]
  },
  {
   "cell_type": "markdown",
   "id": "6a166b70-fbdd-4f5f-9dd3-4a5611704a22",
   "metadata": {
    "tags": []
   },
   "source": [
    "## 2. Rearranging column order"
   ]
  },
  {
   "cell_type": "markdown",
   "id": "93cd1ee8-9017-42c5-a990-6113f967ae31",
   "metadata": {},
   "source": [
    "Not the most important step, but it's nice to have the columns structured in a way that you want it to be."
   ]
  },
  {
   "cell_type": "code",
   "execution_count": 375,
   "id": "d09eedc6-46de-4239-ae3c-1465aab6e0cd",
   "metadata": {
    "tags": []
   },
   "outputs": [],
   "source": [
    "df = df.loc[:, ['area', 'adress', 'price', 'price_per_sqm', 'monthly_fee', 'size_in_sqm', 'date_sold']]"
   ]
  },
  {
   "cell_type": "code",
   "execution_count": 376,
   "id": "54262611-418d-49d2-8e18-66444ba4b243",
   "metadata": {
    "tags": []
   },
   "outputs": [
    {
     "data": {
      "text/html": [
       "<div>\n",
       "<style scoped>\n",
       "    .dataframe tbody tr th:only-of-type {\n",
       "        vertical-align: middle;\n",
       "    }\n",
       "\n",
       "    .dataframe tbody tr th {\n",
       "        vertical-align: top;\n",
       "    }\n",
       "\n",
       "    .dataframe thead th {\n",
       "        text-align: right;\n",
       "    }\n",
       "</style>\n",
       "<table border=\"1\" class=\"dataframe\">\n",
       "  <thead>\n",
       "    <tr style=\"text-align: right;\">\n",
       "      <th></th>\n",
       "      <th>area</th>\n",
       "      <th>adress</th>\n",
       "      <th>price</th>\n",
       "      <th>price_per_sqm</th>\n",
       "      <th>monthly_fee</th>\n",
       "      <th>size_in_sqm</th>\n",
       "      <th>date_sold</th>\n",
       "    </tr>\n",
       "  </thead>\n",
       "  <tbody>\n",
       "    <tr>\n",
       "      <th>0</th>\n",
       "      <td>LägenhetLägenhet                    Södermalm,...</td>\n",
       "      <td>Götgatan 128, 3tr</td>\n",
       "      <td>Slutpris 4 850 000 kr</td>\n",
       "      <td>74 615 kr/m²</td>\n",
       "      <td>2 798 kr/mån</td>\n",
       "      <td>65 m²                                   2 rum</td>\n",
       "      <td>Såld 3 februari 2023</td>\n",
       "    </tr>\n",
       "  </tbody>\n",
       "</table>\n",
       "</div>"
      ],
      "text/plain": [
       "                                                area             adress  \\\n",
       "0  LägenhetLägenhet                    Södermalm,...  Götgatan 128, 3tr   \n",
       "\n",
       "                   price price_per_sqm   monthly_fee  \\\n",
       "0  Slutpris 4 850 000 kr  74 615 kr/m²  2 798 kr/mån   \n",
       "\n",
       "                                     size_in_sqm             date_sold  \n",
       "0  65 m²                                   2 rum  Såld 3 februari 2023  "
      ]
     },
     "execution_count": 376,
     "metadata": {},
     "output_type": "execute_result"
    }
   ],
   "source": [
    "df.head(1)"
   ]
  },
  {
   "cell_type": "markdown",
   "id": "041dfeee-8df6-4e01-b5b4-8aa3f6598c74",
   "metadata": {},
   "source": [
    "Sweet! We have created a new layout for the dataset, lets starting looking at cleaning the actual data."
   ]
  },
  {
   "cell_type": "markdown",
   "id": "be2bee4e-8aef-4a2f-9fa8-b43c78b58d42",
   "metadata": {},
   "source": [
    "## 3. Converting datatypes"
   ]
  },
  {
   "cell_type": "markdown",
   "id": "09f0c416-6575-4e21-846e-4c4db0c2b5c8",
   "metadata": {
    "tags": []
   },
   "source": [
    "Let's have a look at what datatypes we are working with in each column:"
   ]
  },
  {
   "cell_type": "code",
   "execution_count": 377,
   "id": "52ed5a88-81a3-4325-b9b8-6c1646657f67",
   "metadata": {
    "tags": []
   },
   "outputs": [
    {
     "data": {
      "text/plain": [
       "area             object\n",
       "adress           object\n",
       "price            object\n",
       "price_per_sqm    object\n",
       "monthly_fee      object\n",
       "size_in_sqm      object\n",
       "date_sold        object\n",
       "dtype: object"
      ]
     },
     "execution_count": 377,
     "metadata": {},
     "output_type": "execute_result"
    }
   ],
   "source": [
    "df.dtypes"
   ]
  },
  {
   "cell_type": "markdown",
   "id": "9d630f82-1d9a-4244-85ab-e004e6a72214",
   "metadata": {},
   "source": [
    "Object in this case stands for string, which is something we don't want for some of the columns.\n",
    "\n",
    "More specifically, we want to convert the necessary columns like this:\n",
    "* __price__: String -> Integer\n",
    "* __price_per_sqm__: String -> Integer\n",
    "* __monthly_fee__: String -> Float\n",
    "* __size_in_sqm__: String -> Integer\n",
    "* __date_sold__: String -> datetime64 (using datetime from NumPy)\n",
    "\n",
    "Doing this means we also have to change the strings to only contain numbers."
   ]
  },
  {
   "cell_type": "code",
   "execution_count": 378,
   "id": "845d3b50-d4a7-4d61-834e-a6b7c96ecce8",
   "metadata": {},
   "outputs": [],
   "source": [
    "import re"
   ]
  },
  {
   "cell_type": "markdown",
   "id": "d364490b-a141-49b5-bd5b-9d3539411ba4",
   "metadata": {},
   "source": [
    "Trying to convert these columns with the str.replace() method did not work correctly so instead we have to use the re module."
   ]
  },
  {
   "cell_type": "code",
   "execution_count": 379,
   "id": "1b9190b8-a8c1-4fe2-a6cf-c523b02e9a78",
   "metadata": {},
   "outputs": [],
   "source": [
    "def string_to_integer(df_column):\n",
    "    # Use regular expression to find all numeric values in the string and convert them to a list of strings\n",
    "    df_column = df_column.apply(lambda x: [str(i) for i in re.findall(r'\\d+', x)]) \n",
    "    \n",
    "    # Concatenate the list of strings into one string and then convert it to an integer\n",
    "    df_column = df_column.apply(lambda x: int(''.join(map(str, x))))\n",
    "    \n",
    "    # Return the resulting column\n",
    "    return df_column"
   ]
  },
  {
   "cell_type": "code",
   "execution_count": 380,
   "id": "626eff0f-f811-4332-a206-c7165b105d6f",
   "metadata": {},
   "outputs": [],
   "source": [
    "def float_to_integer(df_column):\n",
    "    # Convert floats to strings\n",
    "    df_column = df_column.apply(lambda x: str(x)) \n",
    "    \n",
    "    # Keep only the numeric values as a string\n",
    "    df_column = df_column.apply(lambda x: ''.join(re.findall(r'\\d+', x))) \n",
    "    \n",
    "    # Convert the string to integer or return None if not a digit\n",
    "    df_column = df_column.apply(lambda x: int(x) if x.isdigit() else None) \n",
    "    \n",
    "    return df_column"
   ]
  },
  {
   "cell_type": "markdown",
   "id": "145af65c-fc0a-4b8f-a1f1-dc808300edf8",
   "metadata": {},
   "source": [
    "_string_to_integer_ takes in a pandas dataframe column as input and returns a new pandas series where each value in the column has been transformed to an integer. The function first converts the input to a list of strings where each string only contains numeric characters using the re.findall method. Then, it converts the list to a single integer value using the int function.\n",
    "\n",
    "_float_to_integer_ also takes in a pandas dataframe column as input and returns a new pandas series where each value has been transformed to an integer. The function first converts the input values to strings, then it uses the re.findall method to extract all numeric characters and concatenate them into a single string. Finally, it uses the int function to convert the string to an integer. If the string does not represent a digit, the function returns None instead.\n",
    "\n",
    "Now we can simply call the functions and update the columns"
   ]
  },
  {
   "cell_type": "code",
   "execution_count": 381,
   "id": "d0c709ab-20aa-4e37-a214-057874883dc6",
   "metadata": {
    "tags": []
   },
   "outputs": [],
   "source": [
    "df['price'] = string_to_integer(df['price'])\n",
    "df['price_per_sqm'] = string_to_integer(df['price_per_sqm'])\n",
    "df['monthly_fee'] = float_to_integer(df['monthly_fee'])\n",
    "df['size_in_sqm'] = string_to_integer(df['size_in_sqm'])"
   ]
  },
  {
   "cell_type": "code",
   "execution_count": 382,
   "id": "3af64205-2e71-4021-91ae-fbd103dd8dc7",
   "metadata": {
    "tags": []
   },
   "outputs": [
    {
     "data": {
      "text/html": [
       "<div>\n",
       "<style scoped>\n",
       "    .dataframe tbody tr th:only-of-type {\n",
       "        vertical-align: middle;\n",
       "    }\n",
       "\n",
       "    .dataframe tbody tr th {\n",
       "        vertical-align: top;\n",
       "    }\n",
       "\n",
       "    .dataframe thead th {\n",
       "        text-align: right;\n",
       "    }\n",
       "</style>\n",
       "<table border=\"1\" class=\"dataframe\">\n",
       "  <thead>\n",
       "    <tr style=\"text-align: right;\">\n",
       "      <th></th>\n",
       "      <th>area</th>\n",
       "      <th>adress</th>\n",
       "      <th>price</th>\n",
       "      <th>price_per_sqm</th>\n",
       "      <th>monthly_fee</th>\n",
       "      <th>size_in_sqm</th>\n",
       "      <th>date_sold</th>\n",
       "    </tr>\n",
       "  </thead>\n",
       "  <tbody>\n",
       "    <tr>\n",
       "      <th>0</th>\n",
       "      <td>LägenhetLägenhet                    Södermalm,...</td>\n",
       "      <td>Götgatan 128, 3tr</td>\n",
       "      <td>4850000</td>\n",
       "      <td>74615</td>\n",
       "      <td>2798.0</td>\n",
       "      <td>652</td>\n",
       "      <td>Såld 3 februari 2023</td>\n",
       "    </tr>\n",
       "    <tr>\n",
       "      <th>1</th>\n",
       "      <td>LägenhetLägenhet                    Årsta,    ...</td>\n",
       "      <td>Möckelvägen 32</td>\n",
       "      <td>2650000</td>\n",
       "      <td>63095</td>\n",
       "      <td>3281.0</td>\n",
       "      <td>422</td>\n",
       "      <td>Såld 3 februari 2023</td>\n",
       "    </tr>\n",
       "    <tr>\n",
       "      <th>2</th>\n",
       "      <td>LägenhetLägenhet                    Södermalm ...</td>\n",
       "      <td>Heleneborgsgatan 30</td>\n",
       "      <td>4500000</td>\n",
       "      <td>97826</td>\n",
       "      <td>2451.0</td>\n",
       "      <td>462</td>\n",
       "      <td>Såld 2 februari 2023</td>\n",
       "    </tr>\n",
       "    <tr>\n",
       "      <th>3</th>\n",
       "      <td>LägenhetLägenhet                    Östermalm,...</td>\n",
       "      <td>Körsbärsvägen 10, 5tr</td>\n",
       "      <td>5025000</td>\n",
       "      <td>94811</td>\n",
       "      <td>2664.0</td>\n",
       "      <td>532</td>\n",
       "      <td>Såld 2 februari 2023</td>\n",
       "    </tr>\n",
       "    <tr>\n",
       "      <th>4</th>\n",
       "      <td>LägenhetLägenhet                    Vasastan H...</td>\n",
       "      <td>Anna Steckséns Gata 15, 10 tr</td>\n",
       "      <td>4900000</td>\n",
       "      <td>128947</td>\n",
       "      <td>2387.0</td>\n",
       "      <td>382</td>\n",
       "      <td>Såld 2 februari 2023</td>\n",
       "    </tr>\n",
       "  </tbody>\n",
       "</table>\n",
       "</div>"
      ],
      "text/plain": [
       "                                                area  \\\n",
       "0  LägenhetLägenhet                    Södermalm,...   \n",
       "1  LägenhetLägenhet                    Årsta,    ...   \n",
       "2  LägenhetLägenhet                    Södermalm ...   \n",
       "3  LägenhetLägenhet                    Östermalm,...   \n",
       "4  LägenhetLägenhet                    Vasastan H...   \n",
       "\n",
       "                          adress    price  price_per_sqm  monthly_fee  \\\n",
       "0              Götgatan 128, 3tr  4850000          74615       2798.0   \n",
       "1                 Möckelvägen 32  2650000          63095       3281.0   \n",
       "2            Heleneborgsgatan 30  4500000          97826       2451.0   \n",
       "3          Körsbärsvägen 10, 5tr  5025000          94811       2664.0   \n",
       "4  Anna Steckséns Gata 15, 10 tr  4900000         128947       2387.0   \n",
       "\n",
       "   size_in_sqm             date_sold  \n",
       "0          652  Såld 3 februari 2023  \n",
       "1          422  Såld 3 februari 2023  \n",
       "2          462  Såld 2 februari 2023  \n",
       "3          532  Såld 2 februari 2023  \n",
       "4          382  Såld 2 februari 2023  "
      ]
     },
     "execution_count": 382,
     "metadata": {},
     "output_type": "execute_result"
    }
   ],
   "source": [
    "df.head(5)"
   ]
  },
  {
   "cell_type": "code",
   "execution_count": 383,
   "id": "b2a22003-5913-42f7-ba00-a8c9575ea162",
   "metadata": {
    "tags": []
   },
   "outputs": [],
   "source": [
    "df['date_sold'] = df['date_sold'].str.replace('Såld', '').str.lstrip()"
   ]
  },
  {
   "cell_type": "code",
   "execution_count": 384,
   "id": "116d89f8-ac71-4496-846e-00b1be4708f4",
   "metadata": {
    "tags": []
   },
   "outputs": [],
   "source": [
    "df['date_sold'] = df['date_sold'].str.replace('januari','1')\n",
    "df['date_sold'] = df['date_sold'].str.replace('februari', '2')\n",
    "df['date_sold'] = df['date_sold'].str.replace('mars', '3')\n",
    "df['date_sold'] = df['date_sold'].str.replace('april', '4')\n",
    "df['date_sold'] = df['date_sold'].str.replace('maj', '5')\n",
    "df['date_sold'] = df['date_sold'].str.replace('juni', '6')\n",
    "df['date_sold'] = df['date_sold'].str.replace('juli','7')\n",
    "df['date_sold'] = df['date_sold'].str.replace('augusti', '8')\n",
    "df['date_sold'] = df['date_sold'].str.replace('september', '9')\n",
    "df['date_sold'] = df['date_sold'].str.replace('oktober', '10')\n",
    "df['date_sold'] = df['date_sold'].str.replace('november', '11')\n",
    "df['date_sold'] = df['date_sold'].str.replace('december', '12')"
   ]
  },
  {
   "cell_type": "code",
   "execution_count": 385,
   "id": "6eefe21a-7d98-4dfc-8b23-29de4d5dbbe3",
   "metadata": {
    "tags": []
   },
   "outputs": [],
   "source": [
    "import datetime"
   ]
  },
  {
   "cell_type": "code",
   "execution_count": 386,
   "id": "3620a47e-ea64-4e7e-b03e-276ad2908dcc",
   "metadata": {
    "tags": []
   },
   "outputs": [],
   "source": [
    "df['date_sold'] = df['date_sold'].str.replace(' ', '/')"
   ]
  },
  {
   "cell_type": "code",
   "execution_count": 387,
   "id": "007f017c-7983-4511-8044-dfaef3b5da2c",
   "metadata": {
    "tags": []
   },
   "outputs": [
    {
     "data": {
      "text/plain": [
       "0        3/2/2023\n",
       "1        3/2/2023\n",
       "2        2/2/2023\n",
       "3        2/2/2023\n",
       "4        2/2/2023\n",
       "          ...    \n",
       "2452    12/2/2022\n",
       "2453    12/2/2022\n",
       "2454    11/2/2022\n",
       "2455    11/2/2022\n",
       "2456    11/2/2022\n",
       "Name: date_sold, Length: 2457, dtype: object"
      ]
     },
     "execution_count": 387,
     "metadata": {},
     "output_type": "execute_result"
    }
   ],
   "source": [
    "df['date_sold']"
   ]
  },
  {
   "cell_type": "code",
   "execution_count": 388,
   "id": "983638d3-d797-466e-af9f-a7675b25fa64",
   "metadata": {
    "tags": []
   },
   "outputs": [],
   "source": [
    "df['date_sold'] = pd.to_datetime(df['date_sold'], format='%d/%m/%Y')"
   ]
  },
  {
   "cell_type": "code",
   "execution_count": 389,
   "id": "818d0fc5-ab78-41ed-bbf2-a94655d3564c",
   "metadata": {
    "tags": []
   },
   "outputs": [
    {
     "data": {
      "text/html": [
       "<div>\n",
       "<style scoped>\n",
       "    .dataframe tbody tr th:only-of-type {\n",
       "        vertical-align: middle;\n",
       "    }\n",
       "\n",
       "    .dataframe tbody tr th {\n",
       "        vertical-align: top;\n",
       "    }\n",
       "\n",
       "    .dataframe thead th {\n",
       "        text-align: right;\n",
       "    }\n",
       "</style>\n",
       "<table border=\"1\" class=\"dataframe\">\n",
       "  <thead>\n",
       "    <tr style=\"text-align: right;\">\n",
       "      <th></th>\n",
       "      <th>area</th>\n",
       "      <th>adress</th>\n",
       "      <th>price</th>\n",
       "      <th>price_per_sqm</th>\n",
       "      <th>monthly_fee</th>\n",
       "      <th>size_in_sqm</th>\n",
       "      <th>date_sold</th>\n",
       "    </tr>\n",
       "  </thead>\n",
       "  <tbody>\n",
       "    <tr>\n",
       "      <th>0</th>\n",
       "      <td>LägenhetLägenhet                    Södermalm,...</td>\n",
       "      <td>Götgatan 128, 3tr</td>\n",
       "      <td>4850000</td>\n",
       "      <td>74615</td>\n",
       "      <td>2798.0</td>\n",
       "      <td>652</td>\n",
       "      <td>2023-02-03</td>\n",
       "    </tr>\n",
       "  </tbody>\n",
       "</table>\n",
       "</div>"
      ],
      "text/plain": [
       "                                                area             adress  \\\n",
       "0  LägenhetLägenhet                    Södermalm,...  Götgatan 128, 3tr   \n",
       "\n",
       "     price  price_per_sqm  monthly_fee  size_in_sqm  date_sold  \n",
       "0  4850000          74615       2798.0          652 2023-02-03  "
      ]
     },
     "execution_count": 389,
     "metadata": {},
     "output_type": "execute_result"
    }
   ],
   "source": [
    "df.head(1)"
   ]
  },
  {
   "cell_type": "code",
   "execution_count": 390,
   "id": "5dab00e8-1537-4e2b-b8f2-b05f1c741c7d",
   "metadata": {
    "tags": []
   },
   "outputs": [
    {
     "data": {
      "text/plain": [
       "area                     object\n",
       "adress                   object\n",
       "price                     int64\n",
       "price_per_sqm             int64\n",
       "monthly_fee             float64\n",
       "size_in_sqm               int64\n",
       "date_sold        datetime64[ns]\n",
       "dtype: object"
      ]
     },
     "execution_count": 390,
     "metadata": {},
     "output_type": "execute_result"
    }
   ],
   "source": [
    "df.dtypes"
   ]
  },
  {
   "cell_type": "markdown",
   "id": "3d99d4c4-ff2b-4353-80ec-f9724cb83c19",
   "metadata": {},
   "source": [
    "Great! We have the correct datatypes for each column and are ready to go to the next part of the cleaning process."
   ]
  },
  {
   "cell_type": "markdown",
   "id": "60957fef-998d-4bd2-8d23-a93745822aec",
   "metadata": {},
   "source": [
    "## 4. Removing redundant text"
   ]
  },
  {
   "cell_type": "code",
   "execution_count": 391,
   "id": "6c9a4b91-fc3d-4ac6-95d0-049c3cb55c78",
   "metadata": {},
   "outputs": [],
   "source": [
    "df['area'] = df['area'].str.replace('LägenhetLägenhet ', '') # Replacing weird words from scraping process with blank"
   ]
  },
  {
   "cell_type": "code",
   "execution_count": 392,
   "id": "e3a35d72-5348-484a-a3e0-a65d1c74b765",
   "metadata": {
    "tags": []
   },
   "outputs": [
    {
     "data": {
      "text/html": [
       "<div>\n",
       "<style scoped>\n",
       "    .dataframe tbody tr th:only-of-type {\n",
       "        vertical-align: middle;\n",
       "    }\n",
       "\n",
       "    .dataframe tbody tr th {\n",
       "        vertical-align: top;\n",
       "    }\n",
       "\n",
       "    .dataframe thead th {\n",
       "        text-align: right;\n",
       "    }\n",
       "</style>\n",
       "<table border=\"1\" class=\"dataframe\">\n",
       "  <thead>\n",
       "    <tr style=\"text-align: right;\">\n",
       "      <th></th>\n",
       "      <th>area</th>\n",
       "      <th>adress</th>\n",
       "      <th>price</th>\n",
       "      <th>price_per_sqm</th>\n",
       "      <th>monthly_fee</th>\n",
       "      <th>size_in_sqm</th>\n",
       "      <th>date_sold</th>\n",
       "    </tr>\n",
       "  </thead>\n",
       "  <tbody>\n",
       "    <tr>\n",
       "      <th>0</th>\n",
       "      <td>Södermalm,              Sto...</td>\n",
       "      <td>Götgatan 128, 3tr</td>\n",
       "      <td>4850000</td>\n",
       "      <td>74615</td>\n",
       "      <td>2798.0</td>\n",
       "      <td>652</td>\n",
       "      <td>2023-02-03</td>\n",
       "    </tr>\n",
       "    <tr>\n",
       "      <th>1</th>\n",
       "      <td>Årsta,              Stockho...</td>\n",
       "      <td>Möckelvägen 32</td>\n",
       "      <td>2650000</td>\n",
       "      <td>63095</td>\n",
       "      <td>3281.0</td>\n",
       "      <td>422</td>\n",
       "      <td>2023-02-03</td>\n",
       "    </tr>\n",
       "    <tr>\n",
       "      <th>2</th>\n",
       "      <td>Södermalm - Högalid,       ...</td>\n",
       "      <td>Heleneborgsgatan 30</td>\n",
       "      <td>4500000</td>\n",
       "      <td>97826</td>\n",
       "      <td>2451.0</td>\n",
       "      <td>462</td>\n",
       "      <td>2023-02-02</td>\n",
       "    </tr>\n",
       "    <tr>\n",
       "      <th>3</th>\n",
       "      <td>Östermalm,              Sto...</td>\n",
       "      <td>Körsbärsvägen 10, 5tr</td>\n",
       "      <td>5025000</td>\n",
       "      <td>94811</td>\n",
       "      <td>2664.0</td>\n",
       "      <td>532</td>\n",
       "      <td>2023-02-02</td>\n",
       "    </tr>\n",
       "    <tr>\n",
       "      <th>4</th>\n",
       "      <td>Vasastan Hagastaden,       ...</td>\n",
       "      <td>Anna Steckséns Gata 15, 10 tr</td>\n",
       "      <td>4900000</td>\n",
       "      <td>128947</td>\n",
       "      <td>2387.0</td>\n",
       "      <td>382</td>\n",
       "      <td>2023-02-02</td>\n",
       "    </tr>\n",
       "  </tbody>\n",
       "</table>\n",
       "</div>"
      ],
      "text/plain": [
       "                                                area  \\\n",
       "0                     Södermalm,              Sto...   \n",
       "1                     Årsta,              Stockho...   \n",
       "2                     Södermalm - Högalid,       ...   \n",
       "3                     Östermalm,              Sto...   \n",
       "4                     Vasastan Hagastaden,       ...   \n",
       "\n",
       "                          adress    price  price_per_sqm  monthly_fee  \\\n",
       "0              Götgatan 128, 3tr  4850000          74615       2798.0   \n",
       "1                 Möckelvägen 32  2650000          63095       3281.0   \n",
       "2            Heleneborgsgatan 30  4500000          97826       2451.0   \n",
       "3          Körsbärsvägen 10, 5tr  5025000          94811       2664.0   \n",
       "4  Anna Steckséns Gata 15, 10 tr  4900000         128947       2387.0   \n",
       "\n",
       "   size_in_sqm  date_sold  \n",
       "0          652 2023-02-03  \n",
       "1          422 2023-02-03  \n",
       "2          462 2023-02-02  \n",
       "3          532 2023-02-02  \n",
       "4          382 2023-02-02  "
      ]
     },
     "execution_count": 392,
     "metadata": {},
     "output_type": "execute_result"
    }
   ],
   "source": [
    "df.head()"
   ]
  },
  {
   "cell_type": "code",
   "execution_count": 393,
   "id": "4439dae6-ffc9-4fa5-9c56-15066de66090",
   "metadata": {
    "tags": []
   },
   "outputs": [],
   "source": [
    "df['area'] = df['area'].str.extract(r'(Södermalm|Årsta|Östermalm|Vasastan|Fredhäll)') # Keeps only the areas we are interested in and removes the more specific description"
   ]
  },
  {
   "cell_type": "markdown",
   "id": "36a1cc68-5e98-4d61-9ac1-2553ca170c3a",
   "metadata": {},
   "source": [
    "There are some areas that are completely blank now after using the extract method. Removing these completely would make it easier in the analysis since we are only looking at five areas."
   ]
  },
  {
   "cell_type": "code",
   "execution_count": 394,
   "id": "e1fcb1f1-6ce5-49af-b733-4475601df5cd",
   "metadata": {},
   "outputs": [],
   "source": [
    "df = df.dropna(subset=['area'])"
   ]
  },
  {
   "cell_type": "markdown",
   "id": "a611fa79-f497-47f5-9250-4c46a26d0f1c",
   "metadata": {
    "tags": []
   },
   "source": [
    "Noticing there is a trailing 2 in the \"size_in_sqm\" column, lets remove these 2's and make sure every number is a two digit"
   ]
  },
  {
   "cell_type": "code",
   "execution_count": 395,
   "id": "86854502-952a-49ed-808f-cc4e4ec07062",
   "metadata": {
    "tags": []
   },
   "outputs": [],
   "source": [
    "df['size_in_sqm'] = df['size_in_sqm'].astype(str).str[:-1].astype(int) \n",
    "# Convert to string and remove the last character from every item"
   ]
  },
  {
   "cell_type": "code",
   "execution_count": 396,
   "id": "5e1dd51d-4b6b-48bd-aa8e-32bb85543235",
   "metadata": {
    "tags": []
   },
   "outputs": [],
   "source": [
    "df['size_in_sqm'] = df['size_in_sqm'].where(df['size_in_sqm'] < 100, df['size_in_sqm'] // 10).astype(int) # keep only the first two characters from every item"
   ]
  },
  {
   "cell_type": "markdown",
   "id": "e8e20eb4-90ee-4118-a731-9f58e876703a",
   "metadata": {},
   "source": [
    "## 5. Editing damaged rows, eg: NaN's, misspelled strings, bad numbers"
   ]
  },
  {
   "cell_type": "markdown",
   "id": "ec0a58b8-abc1-4d4c-94ee-005c3296dd4d",
   "metadata": {},
   "source": [
    "Now, let's check for some NaN's in the columns containing integers and float"
   ]
  },
  {
   "cell_type": "code",
   "execution_count": 397,
   "id": "ae7b5dca-c082-49ce-9aba-87083cafb310",
   "metadata": {
    "tags": []
   },
   "outputs": [],
   "source": [
    "nan_values = df['price_per_sqm'][df['price_per_sqm'].isna()]"
   ]
  },
  {
   "cell_type": "code",
   "execution_count": 398,
   "id": "76ccfc1b-776f-4080-b7e4-46aae2ecade2",
   "metadata": {
    "tags": []
   },
   "outputs": [
    {
     "data": {
      "text/plain": [
       "Series([], Name: price_per_sqm, dtype: int64)"
      ]
     },
     "execution_count": 398,
     "metadata": {},
     "output_type": "execute_result"
    }
   ],
   "source": [
    "nan_values"
   ]
  },
  {
   "cell_type": "markdown",
   "id": "409e62d2-9f36-4303-bf70-7cf9c02a6e14",
   "metadata": {},
   "source": [
    "Seeing that there were only one row of data containing a NaN value in the \"monthly_fee\" column. Lets remove that completely."
   ]
  },
  {
   "cell_type": "code",
   "execution_count": 399,
   "id": "82ca3271-153b-47d4-81f8-1cefe3fb70f8",
   "metadata": {
    "tags": []
   },
   "outputs": [],
   "source": [
    "df = df.dropna(subset=['monthly_fee'])"
   ]
  },
  {
   "cell_type": "markdown",
   "id": "a0b08c16-0517-4360-9d15-e9f215d252d8",
   "metadata": {},
   "source": [
    "### Comparison"
   ]
  },
  {
   "cell_type": "markdown",
   "id": "f4ae0b9c-a887-4495-9f4c-09db348c5c11",
   "metadata": {},
   "source": [
    "The dataset is starting to look very good and ready for analysis, below will be a comparison from the raw dataset and the cleaned one."
   ]
  },
  {
   "cell_type": "code",
   "execution_count": 400,
   "id": "100dc8a9-6508-486c-a8fa-05a10a3c8fee",
   "metadata": {
    "tags": []
   },
   "outputs": [
    {
     "data": {
      "text/html": [
       "<div>\n",
       "<style scoped>\n",
       "    .dataframe tbody tr th:only-of-type {\n",
       "        vertical-align: middle;\n",
       "    }\n",
       "\n",
       "    .dataframe tbody tr th {\n",
       "        vertical-align: top;\n",
       "    }\n",
       "\n",
       "    .dataframe thead th {\n",
       "        text-align: right;\n",
       "    }\n",
       "</style>\n",
       "<table border=\"1\" class=\"dataframe\">\n",
       "  <thead>\n",
       "    <tr style=\"text-align: right;\">\n",
       "      <th></th>\n",
       "      <th>Adress</th>\n",
       "      <th>Area</th>\n",
       "      <th>Date</th>\n",
       "      <th>Fee</th>\n",
       "      <th>Price</th>\n",
       "      <th>Price Per SQM</th>\n",
       "      <th>Size</th>\n",
       "      <th>index</th>\n",
       "      <th>timestamp</th>\n",
       "      <th>timestampString</th>\n",
       "      <th>uid</th>\n",
       "      <th>url</th>\n",
       "      <th>url_uid</th>\n",
       "    </tr>\n",
       "  </thead>\n",
       "  <tbody>\n",
       "    <tr>\n",
       "      <th>0</th>\n",
       "      <td>Götgatan 128, 3tr</td>\n",
       "      <td>LägenhetLägenhet                    Södermalm,...</td>\n",
       "      <td>Såld 3 februari 2023</td>\n",
       "      <td>2 798 kr/mån</td>\n",
       "      <td>Slutpris 4 850 000 kr</td>\n",
       "      <td>74 615 kr/m²</td>\n",
       "      <td>65 m²                                   2 rum</td>\n",
       "      <td>1</td>\n",
       "      <td>1675427967343</td>\n",
       "      <td>Fri, 03 Feb 2023 12:39:27 GMT</td>\n",
       "      <td>bbcR8OjQt5f0EriklLFM</td>\n",
       "      <td>https://www.hemnet.se/salda/bostader?location_...</td>\n",
       "      <td>1</td>\n",
       "    </tr>\n",
       "    <tr>\n",
       "      <th>1</th>\n",
       "      <td>Möckelvägen 32</td>\n",
       "      <td>LägenhetLägenhet                    Årsta,    ...</td>\n",
       "      <td>Såld 3 februari 2023</td>\n",
       "      <td>3 281 kr/mån</td>\n",
       "      <td>Slutpris 2 650 000 kr</td>\n",
       "      <td>63 095 kr/m²</td>\n",
       "      <td>42 m²                                   2 rum</td>\n",
       "      <td>2</td>\n",
       "      <td>1675427967343</td>\n",
       "      <td>Fri, 03 Feb 2023 12:39:27 GMT</td>\n",
       "      <td>uk6ZHHepLVJmFTqQHy0Z</td>\n",
       "      <td>https://www.hemnet.se/salda/bostader?location_...</td>\n",
       "      <td>1</td>\n",
       "    </tr>\n",
       "    <tr>\n",
       "      <th>2</th>\n",
       "      <td>Heleneborgsgatan 30</td>\n",
       "      <td>LägenhetLägenhet                    Södermalm ...</td>\n",
       "      <td>Såld 2 februari 2023</td>\n",
       "      <td>2 451 kr/mån</td>\n",
       "      <td>Slutpris 4 500 000 kr</td>\n",
       "      <td>97 826 kr/m²</td>\n",
       "      <td>46 m²                                   2 rum</td>\n",
       "      <td>3</td>\n",
       "      <td>1675427967343</td>\n",
       "      <td>Fri, 03 Feb 2023 12:39:27 GMT</td>\n",
       "      <td>cjyLRjgOnOMK82EonWDr</td>\n",
       "      <td>https://www.hemnet.se/salda/bostader?location_...</td>\n",
       "      <td>1</td>\n",
       "    </tr>\n",
       "    <tr>\n",
       "      <th>3</th>\n",
       "      <td>Körsbärsvägen 10, 5tr</td>\n",
       "      <td>LägenhetLägenhet                    Östermalm,...</td>\n",
       "      <td>Såld 2 februari 2023</td>\n",
       "      <td>2 664 kr/mån</td>\n",
       "      <td>Slutpris 5 025 000 kr</td>\n",
       "      <td>94 811 kr/m²</td>\n",
       "      <td>53 m²                                   2 rum</td>\n",
       "      <td>4</td>\n",
       "      <td>1675427967343</td>\n",
       "      <td>Fri, 03 Feb 2023 12:39:27 GMT</td>\n",
       "      <td>Q6siuV1K48MIikhcKHvj</td>\n",
       "      <td>https://www.hemnet.se/salda/bostader?location_...</td>\n",
       "      <td>1</td>\n",
       "    </tr>\n",
       "    <tr>\n",
       "      <th>4</th>\n",
       "      <td>Anna Steckséns Gata 15, 10 tr</td>\n",
       "      <td>LägenhetLägenhet                    Vasastan H...</td>\n",
       "      <td>Såld 2 februari 2023</td>\n",
       "      <td>2 387 kr/mån</td>\n",
       "      <td>Slutpris 4 900 000 kr</td>\n",
       "      <td>128 947 kr/m²</td>\n",
       "      <td>38 m²                                   2 rum</td>\n",
       "      <td>5</td>\n",
       "      <td>1675427967343</td>\n",
       "      <td>Fri, 03 Feb 2023 12:39:27 GMT</td>\n",
       "      <td>0FTq9jrx3XABUYK6ZuuZ</td>\n",
       "      <td>https://www.hemnet.se/salda/bostader?location_...</td>\n",
       "      <td>1</td>\n",
       "    </tr>\n",
       "  </tbody>\n",
       "</table>\n",
       "</div>"
      ],
      "text/plain": [
       "                          Adress  \\\n",
       "0              Götgatan 128, 3tr   \n",
       "1                 Möckelvägen 32   \n",
       "2            Heleneborgsgatan 30   \n",
       "3          Körsbärsvägen 10, 5tr   \n",
       "4  Anna Steckséns Gata 15, 10 tr   \n",
       "\n",
       "                                                Area                  Date  \\\n",
       "0  LägenhetLägenhet                    Södermalm,...  Såld 3 februari 2023   \n",
       "1  LägenhetLägenhet                    Årsta,    ...  Såld 3 februari 2023   \n",
       "2  LägenhetLägenhet                    Södermalm ...  Såld 2 februari 2023   \n",
       "3  LägenhetLägenhet                    Östermalm,...  Såld 2 februari 2023   \n",
       "4  LägenhetLägenhet                    Vasastan H...  Såld 2 februari 2023   \n",
       "\n",
       "            Fee                  Price  Price Per SQM  \\\n",
       "0  2 798 kr/mån  Slutpris 4 850 000 kr   74 615 kr/m²   \n",
       "1  3 281 kr/mån  Slutpris 2 650 000 kr   63 095 kr/m²   \n",
       "2  2 451 kr/mån  Slutpris 4 500 000 kr   97 826 kr/m²   \n",
       "3  2 664 kr/mån  Slutpris 5 025 000 kr   94 811 kr/m²   \n",
       "4  2 387 kr/mån  Slutpris 4 900 000 kr  128 947 kr/m²   \n",
       "\n",
       "                                            Size  index      timestamp  \\\n",
       "0  65 m²                                   2 rum      1  1675427967343   \n",
       "1  42 m²                                   2 rum      2  1675427967343   \n",
       "2  46 m²                                   2 rum      3  1675427967343   \n",
       "3  53 m²                                   2 rum      4  1675427967343   \n",
       "4  38 m²                                   2 rum      5  1675427967343   \n",
       "\n",
       "                 timestampString                   uid  \\\n",
       "0  Fri, 03 Feb 2023 12:39:27 GMT  bbcR8OjQt5f0EriklLFM   \n",
       "1  Fri, 03 Feb 2023 12:39:27 GMT  uk6ZHHepLVJmFTqQHy0Z   \n",
       "2  Fri, 03 Feb 2023 12:39:27 GMT  cjyLRjgOnOMK82EonWDr   \n",
       "3  Fri, 03 Feb 2023 12:39:27 GMT  Q6siuV1K48MIikhcKHvj   \n",
       "4  Fri, 03 Feb 2023 12:39:27 GMT  0FTq9jrx3XABUYK6ZuuZ   \n",
       "\n",
       "                                                 url  url_uid  \n",
       "0  https://www.hemnet.se/salda/bostader?location_...        1  \n",
       "1  https://www.hemnet.se/salda/bostader?location_...        1  \n",
       "2  https://www.hemnet.se/salda/bostader?location_...        1  \n",
       "3  https://www.hemnet.se/salda/bostader?location_...        1  \n",
       "4  https://www.hemnet.se/salda/bostader?location_...        1  "
      ]
     },
     "execution_count": 400,
     "metadata": {},
     "output_type": "execute_result"
    }
   ],
   "source": [
    "test_df.head(5)"
   ]
  },
  {
   "cell_type": "code",
   "execution_count": 401,
   "id": "d10847a0-991d-4989-b5f1-5623a91eb2f4",
   "metadata": {
    "tags": []
   },
   "outputs": [
    {
     "data": {
      "text/html": [
       "<div>\n",
       "<style scoped>\n",
       "    .dataframe tbody tr th:only-of-type {\n",
       "        vertical-align: middle;\n",
       "    }\n",
       "\n",
       "    .dataframe tbody tr th {\n",
       "        vertical-align: top;\n",
       "    }\n",
       "\n",
       "    .dataframe thead th {\n",
       "        text-align: right;\n",
       "    }\n",
       "</style>\n",
       "<table border=\"1\" class=\"dataframe\">\n",
       "  <thead>\n",
       "    <tr style=\"text-align: right;\">\n",
       "      <th></th>\n",
       "      <th>area</th>\n",
       "      <th>adress</th>\n",
       "      <th>price</th>\n",
       "      <th>price_per_sqm</th>\n",
       "      <th>monthly_fee</th>\n",
       "      <th>size_in_sqm</th>\n",
       "      <th>date_sold</th>\n",
       "    </tr>\n",
       "  </thead>\n",
       "  <tbody>\n",
       "    <tr>\n",
       "      <th>0</th>\n",
       "      <td>Södermalm</td>\n",
       "      <td>Götgatan 128, 3tr</td>\n",
       "      <td>4850000</td>\n",
       "      <td>74615</td>\n",
       "      <td>2798.0</td>\n",
       "      <td>65</td>\n",
       "      <td>2023-02-03</td>\n",
       "    </tr>\n",
       "    <tr>\n",
       "      <th>1</th>\n",
       "      <td>Årsta</td>\n",
       "      <td>Möckelvägen 32</td>\n",
       "      <td>2650000</td>\n",
       "      <td>63095</td>\n",
       "      <td>3281.0</td>\n",
       "      <td>42</td>\n",
       "      <td>2023-02-03</td>\n",
       "    </tr>\n",
       "    <tr>\n",
       "      <th>2</th>\n",
       "      <td>Södermalm</td>\n",
       "      <td>Heleneborgsgatan 30</td>\n",
       "      <td>4500000</td>\n",
       "      <td>97826</td>\n",
       "      <td>2451.0</td>\n",
       "      <td>46</td>\n",
       "      <td>2023-02-02</td>\n",
       "    </tr>\n",
       "    <tr>\n",
       "      <th>3</th>\n",
       "      <td>Östermalm</td>\n",
       "      <td>Körsbärsvägen 10, 5tr</td>\n",
       "      <td>5025000</td>\n",
       "      <td>94811</td>\n",
       "      <td>2664.0</td>\n",
       "      <td>53</td>\n",
       "      <td>2023-02-02</td>\n",
       "    </tr>\n",
       "    <tr>\n",
       "      <th>4</th>\n",
       "      <td>Vasastan</td>\n",
       "      <td>Anna Steckséns Gata 15, 10 tr</td>\n",
       "      <td>4900000</td>\n",
       "      <td>128947</td>\n",
       "      <td>2387.0</td>\n",
       "      <td>38</td>\n",
       "      <td>2023-02-02</td>\n",
       "    </tr>\n",
       "  </tbody>\n",
       "</table>\n",
       "</div>"
      ],
      "text/plain": [
       "        area                         adress    price  price_per_sqm  \\\n",
       "0  Södermalm              Götgatan 128, 3tr  4850000          74615   \n",
       "1      Årsta                 Möckelvägen 32  2650000          63095   \n",
       "2  Södermalm            Heleneborgsgatan 30  4500000          97826   \n",
       "3  Östermalm          Körsbärsvägen 10, 5tr  5025000          94811   \n",
       "4   Vasastan  Anna Steckséns Gata 15, 10 tr  4900000         128947   \n",
       "\n",
       "   monthly_fee  size_in_sqm  date_sold  \n",
       "0       2798.0           65 2023-02-03  \n",
       "1       3281.0           42 2023-02-03  \n",
       "2       2451.0           46 2023-02-02  \n",
       "3       2664.0           53 2023-02-02  \n",
       "4       2387.0           38 2023-02-02  "
      ]
     },
     "execution_count": 401,
     "metadata": {},
     "output_type": "execute_result"
    }
   ],
   "source": [
    "df.head(5)"
   ]
  },
  {
   "cell_type": "markdown",
   "id": "ec941de6-c4fd-4339-92e0-6567421e27f5",
   "metadata": {},
   "source": [
    "The cleaning process is finished and if we run into any more errors in the analysis process, we can always fix it there. For now lets save this newly cleaned dataset as a csv file."
   ]
  },
  {
   "cell_type": "code",
   "execution_count": 402,
   "id": "4df6a0b3-dba2-40d7-993e-170ec91b886b",
   "metadata": {
    "tags": []
   },
   "outputs": [],
   "source": [
    "df.to_csv('data/data.csv', index=False)"
   ]
  },
  {
   "cell_type": "markdown",
   "id": "1a46388b-a195-46a6-9412-e1c4fe72b0da",
   "metadata": {},
   "source": [
    "### That's it for the cleaning process!"
   ]
  }
 ],
 "metadata": {
  "kernelspec": {
   "display_name": "Python 3 (ipykernel)",
   "language": "python",
   "name": "python3"
  },
  "language_info": {
   "codemirror_mode": {
    "name": "ipython",
    "version": 3
   },
   "file_extension": ".py",
   "mimetype": "text/x-python",
   "name": "python",
   "nbconvert_exporter": "python",
   "pygments_lexer": "ipython3",
   "version": "3.10.1"
  }
 },
 "nbformat": 4,
 "nbformat_minor": 5
}
